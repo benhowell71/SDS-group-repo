{
 "cells": [
  {
   "cell_type": "code",
   "execution_count": null,
   "metadata": {},
   "outputs": [
    {
     "ename": "",
     "evalue": "",
     "output_type": "error",
     "traceback": [
      "\u001b[1;31mRunning cells with 'Python 3.9.9 64-bit (windows store)' requires ipykernel package.\n",
      "Run the following command to install 'ipykernel' into the Python environment. \n",
      "Command: 'c:/Users/BDHOW/AppData/Local/Microsoft/WindowsApps/PythonSoftwareFoundation.Python.3.9_qbz5n2kfra8p0/python.exe -m pip install ipykernel -U --user --force-reinstall'"
     ]
    }
   ],
   "source": [
    "#Import libraries\n",
    "\n",
    "from sklearn import metrics\n",
    "import pandas as pd\n",
    "import numpy as np\n",
    "from pyparsing import col\n",
    "from requests import head\n",
    "from sklearn.linear_model import LinearRegression\n",
    "from sklearn.model_selection import train_test_split\n",
    "from torch import rand\n",
    "import seaborn as sns\n",
    "import matplotlib.pyplot as plt\n",
    "from sklearn.neighbors import KNeighborsClassifier\n",
    "from sklearn.metrics import mean_squared_error\n",
    "from sklearn.metrics import classification_report, confusion_matrix\n",
    "import seaborn as sns\n",
    "\n",
    "df = pd.read_csv('final_project\\\\data\\\\ml-100k\\\\u.data', sep='\\t', header=None)\n",
    "\n",
    "df.columns = ['user_id', 'item_id', 'rating', 'timestamp']\n",
    "# user id, age, gender, occupation, zip code\n",
    "users = pd.read_csv('final_project\\\\data\\\\ml-100k\\\\u.user', sep='|', header=None)\n",
    "users.columns = ['user_id', 'age', 'gender', 'occupation', 'zip_code']\n",
    "\n",
    "genre = pd.read_csv('final_project\\\\data\\\\ml-100k\\\\u.genre', sep='|', header=None)\n",
    "genre.columns = ['genre', 'genre_id']\n",
    "\n",
    "job = pd.read_csv('final_project\\\\data\\\\ml-100k\\\\u.occupation', sep='|', header=None)\n",
    "job.columns = ['occupation']\n",
    "job = job.reset_index().rename(columns={'index': 'job'})\n",
    "\n",
    "# before you run this, if you've newly downloaded the data\n",
    "# do a ctrl+f for '||' and replace with '|' bc otherwise it doesn't work\n",
    "items = pd.read_csv('final_project\\\\data\\\\ml-100k\\\\u.item', sep='|', header=None)\n",
    "# items[~items.iloc(21) == 'unknown'] ignore\n",
    "items.columns = ['movie_id', 'movie_title', 'video_release_date', 'imdb_url', 'unknown', 'Action', 'Adventure', 'Animation','Children', 'Comedy', 'Crime', 'Documentary', 'Drama', 'Fantasy', 'Film_Noir', 'Horror', 'Musical', 'Mystery', 'Romance', 'Sci_Fi', 'Thriller', 'War', 'Western']\n",
    "\n",
    "data = df.merge(users, how='left', on = 'user_id').merge(job, how = 'left', on='occupation').merge(items, how='left', left_on='item_id', right_on='movie_id')\n",
    "# okay there are a few values that don't have a Western tag I'm filling it w/ a 0\n",
    "# looks like they're all the same movie, item_id which is unknown so I'm actually just gonna remove that from this set\n",
    "data[data.Western.isna()]\n",
    "\n",
    "data = data[data.Western.notna()].astype({'Western': 'int'})\n",
    "# now everything can be nice, neat integers\n",
    "data.gender.unique()\n",
    "data['gender_id'] = np.where(data.gender == 'M', 0, 1)\n",
    "\n",
    "features = ['rating', 'age', 'gender_id', 'job', 'unknown', 'Action', 'Adventure', 'Animation','Children', 'Comedy', 'Crime', 'Documentary', 'Drama', 'Fantasy', 'Film_Noir', 'Horror', 'Musical', 'Mystery', 'Romance', 'Sci_Fi', 'Thriller', 'War', 'Western']\n",
    "\n",
    "movies = items[['movie_title', 'unknown', 'Action', 'Adventure', 'Animation','Children', 'Comedy', 'Crime', 'Documentary', 'Drama', 'Fantasy', 'Film_Noir', 'Horror', 'Musical', 'Mystery', 'Romance', 'Sci_Fi', 'Thriller', 'War', 'Western']]\n",
    "movies['z'] = 1\n",
    "moi = pd.DataFrame(data=[[21, 0, 18, 1]], columns=['age', 'gender_id', 'job', 'z']).merge(movies, how='left', on = 'z').dropna()\n",
    "\n",
    "data = data[data.groupby(\"item_id\")[\"item_id\"].transform(\"size\")>200]\n",
    "data = data[data.groupby(\"user_id\")[\"user_id\"].transform(\"size\")>20]\n",
    "\n",
    "data_x = data[features].drop(columns=['rating'])\n",
    "data_y = data[['rating']]\n",
    "\n",
    "train_x, train_y, test_x, test_y = train_test_split(data_x, data_y, test_size=0.33, random_state=123)\n",
    "\n",
    "model = LinearRegression().fit(train_x, test_x)\n",
    "\n",
    "print(model.intercept_, model.coef_, model.score(train_y, test_y))\n",
    "\n",
    "print('\\n ------------- Model Intercept ------------- \\n', sep='')\n",
    "print(' ------------- ', model.intercept_, ' -------------', sep='')\n",
    "\n",
    "print('\\n ------------- Model Coefficients ------------- \\n', sep='')\n",
    "print(' ------------- ', model.coef_, ' -------------', sep='')\n",
    "\n",
    "print('\\n ------------- Model Score ------------- \\n', sep='')\n",
    "print(' ------------- ', round(model.score(train_y, test_y), 3), ' -------------', sep='')\n",
    "\n",
    "print('\\n \\n \\n \\n \\n \\n')\n",
    "\n",
    "r_sq = round(model.score(train_x, test_x), 3)\n",
    "print('coefficient of determination training set:', r_sq)\n",
    "\n",
    "r_sq2 = round(model.score(train_y, test_y), 3)\n",
    "print('coefficient of determination training set:', r_sq2)\n",
    "\n",
    "model.coef_\n",
    "\n",
    "pred = pd.DataFrame(model.predict(train_y), columns=['pred_rating'])\n",
    "test_data = train_y.join(test_y).reset_index().join(pred)\n",
    "\n",
    "# test_data.sort_values(by = 'pred_rating', ascending = False)\n",
    "# test_data.groupby([''])\n",
    "\n",
    "moi['pred'] = model.predict(moi[['age', 'gender_id', 'job', 'unknown', 'Action', 'Adventure', 'Animation','Children', 'Comedy', 'Crime', 'Documentary', 'Drama', 'Fantasy', 'Film_Noir', 'Horror', 'Musical', 'Mystery', 'Romance', 'Sci_Fi', 'Thriller', 'War', 'Western']].dropna())\n",
    "\n",
    "# data['pred_rating'] = model.predict(data[features].drop(columns=['rating']))\n",
    "# print(\"\\n Top 10 Movies by Regression Rating: \\n \\n\", data.groupby(['movie_title']).agg({'movie_id': 'count', 'pred_rating': 'mean'}).reset_index().rename(columns={'movie_id': 'n'}).sort_values(by = 'pred_rating', ascending=False).head(10).to_string(index=False), \"\\n \\n\")\n",
    "print(\"\\n Top 10 Movies by Regression Rating for Ben: \\n \\n\", moi[['movie_title', 'pred']].sort_values(by = 'pred', ascending=False).head(10).to_string(index=False), \"\\n \\n\")\n",
    "\n",
    "sns.scatterplot(data=test_data, x = 'rating', y = 'pred_rating', hue = 'pred_rating')\n",
    "sns.set(style='whitegrid',)\n",
    "# plt.show()\n",
    "\n",
    "sns.boxplot(data=test_data, x = 'rating', y = 'pred_rating')\n",
    "sns.set(style='whitegrid',)\n",
    "# plt.show()\n",
    "\n",
    "sns.boxplot(data=test_data, x = 'gender_id', y = 'pred_rating')\n",
    "sns.set(style='whitegrid',)\n",
    "# plt.show()"
   ]
  },
  {
   "cell_type": "code",
   "execution_count": null,
   "metadata": {},
   "outputs": [],
   "source": [
    "#Look at response variable distribution\n",
    "data.hist(column = 'rating')\n",
    "plt.title(\"Rating Distribution\")"
   ]
  },
  {
   "cell_type": "code",
   "execution_count": null,
   "metadata": {},
   "outputs": [],
   "source": [
    "#Glance at other distributions\n",
    "\n",
    "data.hist(column = 'age')\n",
    "plt.title(\"Age Distribution\")"
   ]
  },
  {
   "cell_type": "code",
   "execution_count": null,
   "metadata": {},
   "outputs": [],
   "source": [
    "#Convert to long format data for genre for correlation analysis\n",
    "\n",
    "dataLong = pd.melt(data, id_vars = ['user_id', 'item_id', 'rating', 'timestamp', 'age', 'gender',\n",
    "                        'occupation', 'zip_code', 'job', 'movie_id', 'movie_title','video_release_date', 'imdb_url',\n",
    "                               'gender_id'],\n",
    "        var_name = \"genre\",\n",
    "       value_name = \"values\")\n",
    "dataLong = dataLong.loc[dataLong['values'] == 1]\n",
    "dataLong = dataLong.drop(\"values\", 1)\n",
    "\n",
    "correlation_matrix = dataLong.corr()\n",
    "correlation_matrix"
   ]
  },
  {
   "cell_type": "code",
   "execution_count": null,
   "metadata": {},
   "outputs": [],
   "source": [
    "# split into train/test for kNN\n",
    "\n",
    "features = ['rating', 'age', 'gender_id', 'job', 'unknown', 'Action', 'Adventure', 'Animation','Children', 'Comedy', 'Crime', 'Documentary', 'Drama', 'Fantasy', 'Film_Noir', 'Horror', 'Musical', 'Mystery', 'Romance', 'Sci_Fi', 'Thriller', 'War', 'Western']\n",
    "\n",
    "data_x = data[features].drop(columns=['rating'])\n",
    "data_y = data[['rating']]\n",
    "\n",
    "train_x, test_x, train_y, test_y = train_test_split(data_x, data_y, test_size=0.33, random_state=123)"
   ]
  },
  {
   "cell_type": "code",
   "execution_count": null,
   "metadata": {},
   "outputs": [],
   "source": [
    "# knn regression, find best k value\n",
    "\n",
    "errors = list()\n",
    "for i in range(1,20):\n",
    "    knn_model = KNeighborsClassifier(n_neighbors=i)\n",
    "    knn_model.fit(train_x, train_y.values.ravel())\n",
    "\n",
    "    test_preds = knn_model.predict(test_x)\n",
    "    mse = mean_squared_error(test_y, test_preds)\n",
    "    errors.append(mse)"
   ]
  },
  {
   "cell_type": "code",
   "execution_count": null,
   "metadata": {},
   "outputs": [],
   "source": [
    "plt.plot(errors)\n",
    "plt.xticks(range(1,20))\n",
    "plt.xlabel(\"K\")\n",
    "plt.ylabel(\"mse\")"
   ]
  },
  {
   "cell_type": "code",
   "execution_count": null,
   "metadata": {},
   "outputs": [],
   "source": [
    "classifier = KNeighborsClassifier(n_neighbors= 13)\n",
    "classifier.fit(train_x, train_y.values.ravel())\n",
    "y_pred = classifier.predict(test_x)"
   ]
  },
  {
   "cell_type": "code",
   "execution_count": null,
   "metadata": {},
   "outputs": [],
   "source": [
    "print(classification_report(test_y, y_pred))"
   ]
  },
  {
   "cell_type": "code",
   "execution_count": null,
   "metadata": {},
   "outputs": [],
   "source": [
    "ax= plt.subplot()\n",
    "cm = confusion_matrix(test_y, y_pred)\n",
    "sns.heatmap(cm, annot=True, fmt='g')\n",
    "\n",
    "ax.set_xlabel('Predicted labels');ax.set_ylabel('True labels'); \n",
    "ax.set_title('Confusion Matrix'); \n",
    "ax.xaxis.set_ticklabels(['1','2','3','4','5']); ax.yaxis.set_ticklabels(['1','2','3','4','5']);"
   ]
  }
 ],
 "metadata": {
  "interpreter": {
   "hash": "e2f34d6c420438432a62081f9d0f52f76028c0e42dce36bc10cd0eb8772d1cb3"
  },
  "kernelspec": {
   "display_name": "Python 3.9.9 64-bit (windows store)",
   "language": "python",
   "name": "python3"
  },
  "language_info": {
   "name": "python",
   "version": "3.9.12"
  },
  "orig_nbformat": 4
 },
 "nbformat": 4,
 "nbformat_minor": 2
}
