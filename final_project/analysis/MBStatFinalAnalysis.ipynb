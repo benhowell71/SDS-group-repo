{
 "cells": [
  {
   "cell_type": "code",
   "execution_count": 1,
   "metadata": {},
   "outputs": [],
   "source": [
    "#Import libraries\n",
    "\n",
    "from sklearn import metrics\n",
    "import pandas as pd\n",
    "import numpy as np\n",
    "from pyparsing import col\n",
    "from requests import head\n",
    "from sklearn.linear_model import LinearRegression\n",
    "from sklearn.model_selection import train_test_split\n",
    "from torch import rand\n",
    "import seaborn as sns\n",
    "import matplotlib.pyplot as plt\n",
    "from sklearn.neighbors import KNeighborsClassifier\n",
    "from sklearn.metrics import mean_squared_error\n",
    "from sklearn.metrics import classification_report, confusion_matrix\n",
    "import seaborn as sns\n",
    "from sklearn.preprocessing import StandardScaler\n"
   ]
  },
  {
   "cell_type": "code",
   "execution_count": 2,
   "metadata": {},
   "outputs": [],
   "source": [
    "#Read in data \n",
    "\n",
    "#User data\n",
    "df = pd.read_csv('udata.txt', sep='\\t', header=None)\n",
    "df.columns = ['user_id', 'item_id', 'rating', 'timestamp']\n",
    "\n",
    "#Users\n",
    "users = pd.read_csv('uuser.txt', sep='|', header=None)\n",
    "users.columns = ['user_id', 'age', 'gender', 'occupation', 'zip_code']\n",
    "\n",
    "#genre data\n",
    "genre = pd.read_csv('ugenre.txt', sep='|', header=None)\n",
    "genre.columns = ['genre', 'genre_id']\n",
    "\n",
    "#occupation data\n",
    "job = pd.read_csv('uoccupation.txt', sep='|', header=None)\n",
    "job.columns = ['occupation']\n",
    "job = job.reset_index().rename(columns={'index': 'job'})\n",
    "\n",
    "#other items\n",
    "items = pd.read_csv('uitem.txt', sep='|', header=None)\n",
    "items.columns = ['movie_id', 'movie_title', 'video_release_date', 'imdb_url', 'unknown', 'Action', 'Adventure', 'Animation','Children', 'Comedy', 'Crime', 'Documentary', 'Drama', 'Fantasy', 'Film_Noir', 'Horror', 'Musical', 'Mystery', 'Romance', 'Sci_Fi', 'Thriller', 'War', 'Western']"
   ]
  },
  {
   "cell_type": "code",
   "execution_count": 60,
   "metadata": {},
   "outputs": [],
   "source": [
    "#Combine/clean data\n",
    "\n",
    "data = df.merge(users, how='left', on = 'user_id').merge(job, how = 'left', on='occupation').merge(items, how='left', left_on='item_id', right_on='movie_id')\n",
    "data[data.Western.isna()]\n",
    "data = data[data.Western.notna()].astype({'Western': 'int'})\n",
    "data.gender.unique()\n",
    "data['gender_id'] = np.where(data.gender == 'M', 0, 1)\n",
    "\n",
    "#subset data to movies with over 100 reviews and reviewers with over 5 reviews\n",
    "data = data[data.groupby(\"item_id\")[\"item_id\"].transform(\"size\")>200]\n",
    "data = data[data.groupby(\"user_id\")[\"user_id\"].transform(\"size\")>10]\n"
   ]
  },
  {
   "cell_type": "code",
   "execution_count": 4,
   "metadata": {},
   "outputs": [
    {
     "data": {
      "text/plain": [
       "Text(0.5, 1.0, 'Rating Distribution')"
      ]
     },
     "execution_count": 4,
     "metadata": {},
     "output_type": "execute_result"
    },
    {
     "data": {
      "image/png": "[encoded data removed]",
      "text/plain": [
       "<Figure size 432x288 with 1 Axes>"
      ]
     },
     "metadata": {
      "needs_background": "light"
     },
     "output_type": "display_data"
    }
   ],
   "source": [
    "#Look at response variable distribution\n",
    "data.hist(column = 'rating')\n",
    "plt.title(\"Rating Distribution\")"
   ]
  },
  {
   "cell_type": "code",
   "execution_count": 5,
   "metadata": {
    "scrolled": true
   },
   "outputs": [
    {
     "data": {
      "text/plain": [
       "Text(0.5, 1.0, 'Age Distribution')"
      ]
     },
     "execution_count": 5,
     "metadata": {},
     "output_type": "execute_result"
    },
    {
     "data": {
      "image/png": "[encoded data removed]",
      "text/plain": [
       "<Figure size 432x288 with 1 Axes>"
      ]
     },
     "metadata": {
      "needs_background": "light"
     },
     "output_type": "display_data"
    }
   ],
   "source": [
    "#Glance at other distributions\n",
    "\n",
    "data.hist(column = 'age')\n",
    "plt.title(\"Age Distribution\")"
   ]
  },
  {
   "cell_type": "code",
   "execution_count": 6,
   "metadata": {},
   "outputs": [
    {
     "data": {
      "text/plain": [
       "Text(0, 0.5, 'Count')"
      ]
     },
     "execution_count": 6,
     "metadata": {},
     "output_type": "execute_result"
    },
    {
     "data": {
      "image/png": "[encoded data removed]",
      "text/plain": [
       "<Figure size 432x288 with 1 Axes>"
      ]
     },
     "metadata": {
      "needs_background": "light"
     },
     "output_type": "display_data"
    }
   ],
   "source": [
    "# How many ratings do movies have?\n",
    "data.groupby('item_id')['rating'].count().hist()\n",
    "plt.xlabel(\"Number of ratings\")\n",
    "plt.ylabel(\"Count\")"
   ]
  },
  {
   "cell_type": "code",
   "execution_count": 7,
   "metadata": {},
   "outputs": [
    {
     "data": {
      "text/html": [
       "<div>\n",
       "<style scoped>\n",
       "    .dataframe tbody tr th:only-of-type {\n",
       "        vertical-align: middle;\n",
       "    }\n",
       "\n",
       "    .dataframe tbody tr th {\n",
       "        vertical-align: top;\n",
       "    }\n",
       "\n",
       "    .dataframe thead th {\n",
       "        text-align: right;\n",
       "    }\n",
       "</style>\n",
       "<table border=\"1\" class=\"dataframe\">\n",
       "  <thead>\n",
       "    <tr style=\"text-align: right;\">\n",
       "      <th></th>\n",
       "      <th>user_id</th>\n",
       "      <th>item_id</th>\n",
       "      <th>rating</th>\n",
       "      <th>timestamp</th>\n",
       "      <th>age</th>\n",
       "      <th>job</th>\n",
       "      <th>movie_id</th>\n",
       "      <th>gender_id</th>\n",
       "    </tr>\n",
       "  </thead>\n",
       "  <tbody>\n",
       "    <tr>\n",
       "      <th>user_id</th>\n",
       "      <td>1.000000</td>\n",
       "      <td>0.004230</td>\n",
       "      <td>-0.019344</td>\n",
       "      <td>0.009117</td>\n",
       "      <td>-0.083715</td>\n",
       "      <td>0.103159</td>\n",
       "      <td>0.004230</td>\n",
       "      <td>0.014287</td>\n",
       "    </tr>\n",
       "    <tr>\n",
       "      <th>item_id</th>\n",
       "      <td>0.004230</td>\n",
       "      <td>1.000000</td>\n",
       "      <td>-0.114126</td>\n",
       "      <td>0.038692</td>\n",
       "      <td>0.011086</td>\n",
       "      <td>-0.000194</td>\n",
       "      <td>1.000000</td>\n",
       "      <td>0.003130</td>\n",
       "    </tr>\n",
       "    <tr>\n",
       "      <th>rating</th>\n",
       "      <td>-0.019344</td>\n",
       "      <td>-0.114126</td>\n",
       "      <td>1.000000</td>\n",
       "      <td>-0.035430</td>\n",
       "      <td>-0.014042</td>\n",
       "      <td>-0.025793</td>\n",
       "      <td>-0.114126</td>\n",
       "      <td>-0.015383</td>\n",
       "    </tr>\n",
       "    <tr>\n",
       "      <th>timestamp</th>\n",
       "      <td>0.009117</td>\n",
       "      <td>0.038692</td>\n",
       "      <td>-0.035430</td>\n",
       "      <td>1.000000</td>\n",
       "      <td>0.149947</td>\n",
       "      <td>0.055165</td>\n",
       "      <td>0.038692</td>\n",
       "      <td>0.027137</td>\n",
       "    </tr>\n",
       "    <tr>\n",
       "      <th>age</th>\n",
       "      <td>-0.083715</td>\n",
       "      <td>0.011086</td>\n",
       "      <td>-0.014042</td>\n",
       "      <td>0.149947</td>\n",
       "      <td>1.000000</td>\n",
       "      <td>-0.351549</td>\n",
       "      <td>0.011086</td>\n",
       "      <td>-0.024447</td>\n",
       "    </tr>\n",
       "    <tr>\n",
       "      <th>job</th>\n",
       "      <td>0.103159</td>\n",
       "      <td>-0.000194</td>\n",
       "      <td>-0.025793</td>\n",
       "      <td>0.055165</td>\n",
       "      <td>-0.351549</td>\n",
       "      <td>1.000000</td>\n",
       "      <td>-0.000194</td>\n",
       "      <td>-0.026429</td>\n",
       "    </tr>\n",
       "    <tr>\n",
       "      <th>movie_id</th>\n",
       "      <td>0.004230</td>\n",
       "      <td>1.000000</td>\n",
       "      <td>-0.114126</td>\n",
       "      <td>0.038692</td>\n",
       "      <td>0.011086</td>\n",
       "      <td>-0.000194</td>\n",
       "      <td>1.000000</td>\n",
       "      <td>0.003130</td>\n",
       "    </tr>\n",
       "    <tr>\n",
       "      <th>gender_id</th>\n",
       "      <td>0.014287</td>\n",
       "      <td>0.003130</td>\n",
       "      <td>-0.015383</td>\n",
       "      <td>0.027137</td>\n",
       "      <td>-0.024447</td>\n",
       "      <td>-0.026429</td>\n",
       "      <td>0.003130</td>\n",
       "      <td>1.000000</td>\n",
       "    </tr>\n",
       "  </tbody>\n",
       "</table>\n",
       "</div>"
      ],
      "text/plain": [
       "            user_id   item_id    rating  timestamp       age       job  \\\n",
       "user_id    1.000000  0.004230 -0.019344   0.009117 -0.083715  0.103159   \n",
       "item_id    0.004230  1.000000 -0.114126   0.038692  0.011086 -0.000194   \n",
       "rating    -0.019344 -0.114126  1.000000  -0.035430 -0.014042 -0.025793   \n",
       "timestamp  0.009117  0.038692 -0.035430   1.000000  0.149947  0.055165   \n",
       "age       -0.083715  0.011086 -0.014042   0.149947  1.000000 -0.351549   \n",
       "job        0.103159 -0.000194 -0.025793   0.055165 -0.351549  1.000000   \n",
       "movie_id   0.004230  1.000000 -0.114126   0.038692  0.011086 -0.000194   \n",
       "gender_id  0.014287  0.003130 -0.015383   0.027137 -0.024447 -0.026429   \n",
       "\n",
       "           movie_id  gender_id  \n",
       "user_id    0.004230   0.014287  \n",
       "item_id    1.000000   0.003130  \n",
       "rating    -0.114126  -0.015383  \n",
       "timestamp  0.038692   0.027137  \n",
       "age        0.011086  -0.024447  \n",
       "job       -0.000194  -0.026429  \n",
       "movie_id   1.000000   0.003130  \n",
       "gender_id  0.003130   1.000000  "
      ]
     },
     "execution_count": 7,
     "metadata": {},
     "output_type": "execute_result"
    }
   ],
   "source": [
    "#Convert to long format data for genre for correlation analysis\n",
    "\n",
    "dataLong = pd.melt(data, id_vars = ['user_id', 'item_id', 'rating', 'timestamp', 'age', 'gender',\n",
    "                        'occupation', 'zip_code', 'job', 'movie_id', 'movie_title','video_release_date', 'imdb_url',\n",
    "                               'gender_id'],\n",
    "        var_name = \"genre\",\n",
    "       value_name = \"values\")\n",
    "dataLong = dataLong.loc[dataLong['values'] == 1]\n",
    "dataLong = dataLong.drop(\"values\", 1)\n",
    "\n",
    "correlation_matrix = dataLong.corr()\n",
    "correlation_matrix"
   ]
  },
  {
   "cell_type": "code",
   "execution_count": 61,
   "metadata": {},
   "outputs": [],
   "source": [
    "# split into train/test for kNN\n",
    "\n",
    "features = ['rating', 'age', 'gender_id', 'job', 'unknown', 'Action', 'Adventure', 'Animation','Children', 'Comedy', 'Crime', 'Documentary', 'Drama', 'Fantasy', 'Film_Noir', 'Horror', 'Musical', 'Mystery', 'Romance', 'Sci_Fi', 'Thriller', 'War', 'Western']\n",
    "\n",
    "data_x = data[features].drop(columns=['rating'])\n",
    "data_y = data[['rating']]\n",
    "\n",
    "train_x, test_x, train_y, test_y = train_test_split(data_x, data_y, test_size=0.33, random_state=123)\n",
    "\n"
   ]
  },
  {
   "cell_type": "code",
   "execution_count": 27,
   "metadata": {},
   "outputs": [],
   "source": [
    "scaler = StandardScaler()\n",
    "scaler.fit(train_x)\n",
    "\n",
    "train_x = scaler.transform(train_x)\n",
    "test_x = scaler.transform(test_x)"
   ]
  },
  {
   "cell_type": "code",
   "execution_count": 10,
   "metadata": {},
   "outputs": [],
   "source": [
    "# knn regression, find best k value\n",
    "\n",
    "errors = list()\n",
    "for i in range(1,20):\n",
    "    knn_model = KNeighborsClassifier(n_neighbors=i)\n",
    "    knn_model.fit(train_x, train_y.values.ravel())\n",
    "\n",
    "    test_preds = knn_model.predict(test_x)\n",
    "    mse = mean_squared_error(test_y, test_preds)\n",
    "    errors.append(mse)\n",
    "\n"
   ]
  },
  {
   "cell_type": "code",
   "execution_count": 11,
   "metadata": {
    "scrolled": true
   },
   "outputs": [
    {
     "data": {
      "text/plain": [
       "Text(0, 0.5, 'mse')"
      ]
     },
     "execution_count": 11,
     "metadata": {},
     "output_type": "execute_result"
    },
    {
     "data": {
      "image/png": "[encoded data removed]",
      "text/plain": [
       "<Figure size 432x288 with 1 Axes>"
      ]
     },
     "metadata": {
      "needs_background": "light"
     },
     "output_type": "display_data"
    }
   ],
   "source": [
    "plt.plot(errors)\n",
    "plt.xticks(range(1,20))\n",
    "plt.xlabel(\"K\")\n",
    "plt.ylabel(\"mse\")"
   ]
  },
  {
   "cell_type": "code",
   "execution_count": 62,
   "metadata": {},
   "outputs": [],
   "source": [
    "classifier = KNeighborsClassifier(n_neighbors= 15)\n",
    "classifier.fit(train_x, train_y.values.ravel())\n",
    "y_pred = classifier.predict(test_x)\n"
   ]
  },
  {
   "cell_type": "code",
   "execution_count": 63,
   "metadata": {},
   "outputs": [
    {
     "name": "stdout",
     "output_type": "stream",
     "text": [
      "              precision    recall  f1-score   support\n",
      "\n",
      "           1       0.21      0.02      0.03       326\n",
      "           2       0.14      0.03      0.05       871\n",
      "           3       0.27      0.25      0.26      2305\n",
      "           4       0.41      0.56      0.48      4074\n",
      "           5       0.40      0.37      0.39      3121\n",
      "\n",
      "    accuracy                           0.38     10697\n",
      "   macro avg       0.29      0.24      0.24     10697\n",
      "weighted avg       0.35      0.38      0.35     10697\n",
      "\n"
     ]
    }
   ],
   "source": [
    "print(classification_report(test_y, y_pred))"
   ]
  },
  {
   "cell_type": "code",
   "execution_count": 15,
   "metadata": {},
   "outputs": [
    {
     "data": {
      "image/png": "[encoded data removed]",
      "text/plain": [
       "<Figure size 432x288 with 2 Axes>"
      ]
     },
     "metadata": {
      "needs_background": "light"
     },
     "output_type": "display_data"
    }
   ],
   "source": [
    "ax= plt.subplot()\n",
    "cm = confusion_matrix(test_y, y_pred)\n",
    "sns.heatmap(cm, annot=True, fmt='g')\n",
    "\n",
    "ax.set_xlabel('Predicted labels');ax.set_ylabel('True labels'); \n",
    "ax.set_title('Confusion Matrix'); \n",
    "ax.xaxis.set_ticklabels(['1','2','3','4','5']); ax.yaxis.set_ticklabels(['1','2','3','4','5']);"
   ]
  },
  {
   "cell_type": "code",
   "execution_count": 92,
   "metadata": {},
   "outputs": [
    {
     "data": {
      "text/plain": [
       "movie_title\n",
       "GoodFellas (1990)                  4.465753\n",
       "Godfather: Part II, The (1974)     4.424242\n",
       "Empire Strikes Back, The (1980)    4.418033\n",
       "Apocalypse Now (1979)              4.389610\n",
       "Pulp Fiction (1994)                4.379562\n",
       "Graduate, The (1967)               4.376623\n",
       "Return of the Jedi (1983)          4.366279\n",
       "Usual Suspects, The (1995)         4.341176\n",
       "Seven (Se7en) (1995)               4.328947\n",
       "Star Wars (1977)                   4.324324\n",
       "Name: predictions, dtype: float64"
      ]
     },
     "execution_count": 92,
     "metadata": {},
     "output_type": "execute_result"
    }
   ],
   "source": [
    "#Top 10 movies\n",
    "\n",
    "dataNew = data.loc[test_x.index.values.tolist(),:]\n",
    "dataNew[\"predictions\"] = y_pred\n",
    "\n",
    "topMovies = dataNew.groupby(\"movie_title\")[\"predictions\"].mean()\n",
    "topMovies = topMovies.sort_values(ascending = False).head(n = 10)\n",
    "topMovies"
   ]
  }
 ],
 "metadata": {
  "kernelspec": {
   "display_name": "Python 3 (ipykernel)",
   "language": "python",
   "name": "python3"
  },
  "language_info": {
   "codemirror_mode": {
    "name": "ipython",
    "version": 3
   },
   "file_extension": ".py",
   "mimetype": "text/x-python",
   "name": "python",
   "nbconvert_exporter": "python",
   "pygments_lexer": "ipython3",
   "version": "3.8.5"
  }
 },
 "nbformat": 4,
 "nbformat_minor": 4
}
