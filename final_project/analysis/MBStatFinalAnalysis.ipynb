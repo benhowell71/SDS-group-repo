{
 "cells": [
  {
   "cell_type": "code",
   "execution_count": 26,
   "metadata": {},
   "outputs": [],
   "source": [
    "#Import libraries\n",
    "\n",
    "from sklearn import metrics\n",
    "import pandas as pd\n",
    "import numpy as np\n",
    "from pyparsing import col\n",
    "from requests import head\n",
    "from sklearn.linear_model import LinearRegression\n",
    "from sklearn.model_selection import train_test_split\n",
    "from torch import rand\n",
    "import seaborn as sns\n",
    "import matplotlib.pyplot as plt\n",
    "from sklearn.neighbors import KNeighborsRegressor\n",
    "from sklearn.metrics import mean_squared_error"
   ]
  },
  {
   "cell_type": "code",
   "execution_count": 2,
   "metadata": {},
   "outputs": [],
   "source": [
    "#Read in data \n",
    "\n",
    "#User data\n",
    "df = pd.read_csv('udata.txt', sep='\\t', header=None)\n",
    "df.columns = ['user_id', 'item_id', 'rating', 'timestamp']\n",
    "\n",
    "#Users\n",
    "users = pd.read_csv('uuser.txt', sep='|', header=None)\n",
    "users.columns = ['user_id', 'age', 'gender', 'occupation', 'zip_code']\n",
    "\n",
    "#genre data\n",
    "genre = pd.read_csv('ugenre.txt', sep='|', header=None)\n",
    "genre.columns = ['genre', 'genre_id']\n",
    "\n",
    "#occupation data\n",
    "job = pd.read_csv('uoccupation.txt', sep='|', header=None)\n",
    "job.columns = ['occupation']\n",
    "job = job.reset_index().rename(columns={'index': 'job'})\n",
    "\n",
    "#other items\n",
    "items = pd.read_csv('uitem.txt', sep='|', header=None)\n",
    "items.columns = ['movie_id', 'movie_title', 'video_release_date', 'imdb_url', 'unknown', 'Action', 'Adventure', 'Animation','Children', 'Comedy', 'Crime', 'Documentary', 'Drama', 'Fantasy', 'Film_Noir', 'Horror', 'Musical', 'Mystery', 'Romance', 'Sci_Fi', 'Thriller', 'War', 'Western']"
   ]
  },
  {
   "cell_type": "code",
   "execution_count": 3,
   "metadata": {},
   "outputs": [],
   "source": [
    "#Combine/clean data\n",
    "\n",
    "data = df.merge(users, how='left', on = 'user_id').merge(job, how = 'left', on='occupation').merge(items, how='left', left_on='item_id', right_on='movie_id')\n",
    "data[data.Western.isna()]\n",
    "data = data[data.Western.notna()].astype({'Western': 'int'})\n",
    "data.gender.unique()\n",
    "data['gender_id'] = np.where(data.gender == 'M', 0, 1)\n"
   ]
  },
  {
   "cell_type": "code",
   "execution_count": 65,
   "metadata": {},
   "outputs": [
    {
     "data": {
      "text/plain": [
       "Text(0.5, 1.0, 'Rating Distribution')"
      ]
     },
     "execution_count": 65,
     "metadata": {},
     "output_type": "execute_result"
    },
    {
     "data": {
      "image/png": "[encoded data removed]",
      "text/plain": [
       "<Figure size 432x288 with 1 Axes>"
      ]
     },
     "metadata": {
      "needs_background": "light"
     },
     "output_type": "display_data"
    }
   ],
   "source": [
    "#Look at response variable distribution\n",
    "data.hist(column = 'rating')\n",
    "plt.title(\"Rating Distribution\")"
   ]
  },
  {
   "cell_type": "code",
   "execution_count": 72,
   "metadata": {},
   "outputs": [
    {
     "data": {
      "text/plain": [
       "Text(0.5, 1.0, 'Age Distribution')"
      ]
     },
     "execution_count": 72,
     "metadata": {},
     "output_type": "execute_result"
    },
    {
     "data": {
      "image/png": "[encoded data removed]",
      "text/plain": [
       "<Figure size 432x288 with 1 Axes>"
      ]
     },
     "metadata": {
      "needs_background": "light"
     },
     "output_type": "display_data"
    }
   ],
   "source": [
    "#Glance at other distributions\n",
    "\n",
    "data.hist(column = 'age')\n",
    "plt.title(\"Age Distribution\")"
   ]
  },
  {
   "cell_type": "code",
   "execution_count": 9,
   "metadata": {},
   "outputs": [
    {
     "data": {
      "text/html": [
       "<div>\n",
       "<style scoped>\n",
       "    .dataframe tbody tr th:only-of-type {\n",
       "        vertical-align: middle;\n",
       "    }\n",
       "\n",
       "    .dataframe tbody tr th {\n",
       "        vertical-align: top;\n",
       "    }\n",
       "\n",
       "    .dataframe thead th {\n",
       "        text-align: right;\n",
       "    }\n",
       "</style>\n",
       "<table border=\"1\" class=\"dataframe\">\n",
       "  <thead>\n",
       "    <tr style=\"text-align: right;\">\n",
       "      <th></th>\n",
       "      <th>user_id</th>\n",
       "      <th>item_id</th>\n",
       "      <th>rating</th>\n",
       "      <th>timestamp</th>\n",
       "      <th>age</th>\n",
       "      <th>job</th>\n",
       "      <th>movie_id</th>\n",
       "      <th>gender_id</th>\n",
       "    </tr>\n",
       "  </thead>\n",
       "  <tbody>\n",
       "    <tr>\n",
       "      <th>user_id</th>\n",
       "      <td>1.000000</td>\n",
       "      <td>0.007786</td>\n",
       "      <td>-0.009345</td>\n",
       "      <td>0.017033</td>\n",
       "      <td>-0.075986</td>\n",
       "      <td>0.104361</td>\n",
       "      <td>0.007786</td>\n",
       "      <td>0.028086</td>\n",
       "    </tr>\n",
       "    <tr>\n",
       "      <th>item_id</th>\n",
       "      <td>0.007786</td>\n",
       "      <td>1.000000</td>\n",
       "      <td>-0.183815</td>\n",
       "      <td>0.044195</td>\n",
       "      <td>-0.001901</td>\n",
       "      <td>0.000972</td>\n",
       "      <td>1.000000</td>\n",
       "      <td>0.032098</td>\n",
       "    </tr>\n",
       "    <tr>\n",
       "      <th>rating</th>\n",
       "      <td>-0.009345</td>\n",
       "      <td>-0.183815</td>\n",
       "      <td>1.000000</td>\n",
       "      <td>-0.018312</td>\n",
       "      <td>0.047199</td>\n",
       "      <td>-0.027173</td>\n",
       "      <td>-0.183815</td>\n",
       "      <td>-0.000223</td>\n",
       "    </tr>\n",
       "    <tr>\n",
       "      <th>timestamp</th>\n",
       "      <td>0.017033</td>\n",
       "      <td>0.044195</td>\n",
       "      <td>-0.018312</td>\n",
       "      <td>1.000000</td>\n",
       "      <td>0.153953</td>\n",
       "      <td>0.027172</td>\n",
       "      <td>0.044195</td>\n",
       "      <td>0.035340</td>\n",
       "    </tr>\n",
       "    <tr>\n",
       "      <th>age</th>\n",
       "      <td>-0.075986</td>\n",
       "      <td>-0.001901</td>\n",
       "      <td>0.047199</td>\n",
       "      <td>0.153953</td>\n",
       "      <td>1.000000</td>\n",
       "      <td>-0.369569</td>\n",
       "      <td>-0.001901</td>\n",
       "      <td>-0.033479</td>\n",
       "    </tr>\n",
       "    <tr>\n",
       "      <th>job</th>\n",
       "      <td>0.104361</td>\n",
       "      <td>0.000972</td>\n",
       "      <td>-0.027173</td>\n",
       "      <td>0.027172</td>\n",
       "      <td>-0.369569</td>\n",
       "      <td>1.000000</td>\n",
       "      <td>0.000972</td>\n",
       "      <td>-0.015315</td>\n",
       "    </tr>\n",
       "    <tr>\n",
       "      <th>movie_id</th>\n",
       "      <td>0.007786</td>\n",
       "      <td>1.000000</td>\n",
       "      <td>-0.183815</td>\n",
       "      <td>0.044195</td>\n",
       "      <td>-0.001901</td>\n",
       "      <td>0.000972</td>\n",
       "      <td>1.000000</td>\n",
       "      <td>0.032098</td>\n",
       "    </tr>\n",
       "    <tr>\n",
       "      <th>gender_id</th>\n",
       "      <td>0.028086</td>\n",
       "      <td>0.032098</td>\n",
       "      <td>-0.000223</td>\n",
       "      <td>0.035340</td>\n",
       "      <td>-0.033479</td>\n",
       "      <td>-0.015315</td>\n",
       "      <td>0.032098</td>\n",
       "      <td>1.000000</td>\n",
       "    </tr>\n",
       "  </tbody>\n",
       "</table>\n",
       "</div>"
      ],
      "text/plain": [
       "            user_id   item_id    rating  timestamp       age       job  \\\n",
       "user_id    1.000000  0.007786 -0.009345   0.017033 -0.075986  0.104361   \n",
       "item_id    0.007786  1.000000 -0.183815   0.044195 -0.001901  0.000972   \n",
       "rating    -0.009345 -0.183815  1.000000  -0.018312  0.047199 -0.027173   \n",
       "timestamp  0.017033  0.044195 -0.018312   1.000000  0.153953  0.027172   \n",
       "age       -0.075986 -0.001901  0.047199   0.153953  1.000000 -0.369569   \n",
       "job        0.104361  0.000972 -0.027173   0.027172 -0.369569  1.000000   \n",
       "movie_id   0.007786  1.000000 -0.183815   0.044195 -0.001901  0.000972   \n",
       "gender_id  0.028086  0.032098 -0.000223   0.035340 -0.033479 -0.015315   \n",
       "\n",
       "           movie_id  gender_id  \n",
       "user_id    0.007786   0.028086  \n",
       "item_id    1.000000   0.032098  \n",
       "rating    -0.183815  -0.000223  \n",
       "timestamp  0.044195   0.035340  \n",
       "age       -0.001901  -0.033479  \n",
       "job        0.000972  -0.015315  \n",
       "movie_id   1.000000   0.032098  \n",
       "gender_id  0.032098   1.000000  "
      ]
     },
     "execution_count": 9,
     "metadata": {},
     "output_type": "execute_result"
    }
   ],
   "source": [
    "#Convert to long format data for genre for correlation analysis\n",
    "\n",
    "dataLong = pd.melt(data, id_vars = ['user_id', 'item_id', 'rating', 'timestamp', 'age', 'gender',\n",
    "                        'occupation', 'zip_code', 'job', 'movie_id', 'movie_title','video_release_date', 'imdb_url',\n",
    "                               'gender_id'],\n",
    "        var_name = \"genre\",\n",
    "       value_name = \"values\")\n",
    "dataLong = dataLong.loc[dataLong['values'] == 1]\n",
    "dataLong = dataLong.drop(\"values\", 1)\n",
    "\n",
    "correlation_matrix = dataLong.corr()\n",
    "correlation_matrix"
   ]
  },
  {
   "cell_type": "code",
   "execution_count": 24,
   "metadata": {},
   "outputs": [],
   "source": [
    "# split into train/test for kNN\n",
    "\n",
    "features = ['rating', 'age', 'gender_id', 'job', 'unknown', 'Action', 'Adventure', 'Animation','Children', 'Comedy', 'Crime', 'Documentary', 'Drama', 'Fantasy', 'Film_Noir', 'Horror', 'Musical', 'Mystery', 'Romance', 'Sci_Fi', 'Thriller', 'War', 'Western']\n",
    "\n",
    "data_x = data[features].drop(columns=['rating'])\n",
    "data_y = data[['rating']]\n",
    "\n",
    "train_x, test_x, train_y, test_y = train_test_split(data_x, data_y, test_size=0.33, random_state=123)\n",
    "\n"
   ]
  },
  {
   "cell_type": "code",
   "execution_count": 23,
   "metadata": {},
   "outputs": [
    {
     "data": {
      "text/html": [
       "<div>\n",
       "<style scoped>\n",
       "    .dataframe tbody tr th:only-of-type {\n",
       "        vertical-align: middle;\n",
       "    }\n",
       "\n",
       "    .dataframe tbody tr th {\n",
       "        vertical-align: top;\n",
       "    }\n",
       "\n",
       "    .dataframe thead th {\n",
       "        text-align: right;\n",
       "    }\n",
       "</style>\n",
       "<table border=\"1\" class=\"dataframe\">\n",
       "  <thead>\n",
       "    <tr style=\"text-align: right;\">\n",
       "      <th></th>\n",
       "      <th>rating</th>\n",
       "    </tr>\n",
       "  </thead>\n",
       "  <tbody>\n",
       "    <tr>\n",
       "      <th>26255</th>\n",
       "      <td>4</td>\n",
       "    </tr>\n",
       "    <tr>\n",
       "      <th>32645</th>\n",
       "      <td>5</td>\n",
       "    </tr>\n",
       "    <tr>\n",
       "      <th>89609</th>\n",
       "      <td>1</td>\n",
       "    </tr>\n",
       "    <tr>\n",
       "      <th>54877</th>\n",
       "      <td>5</td>\n",
       "    </tr>\n",
       "    <tr>\n",
       "      <th>31903</th>\n",
       "      <td>4</td>\n",
       "    </tr>\n",
       "    <tr>\n",
       "      <th>...</th>\n",
       "      <td>...</td>\n",
       "    </tr>\n",
       "    <tr>\n",
       "      <th>63213</th>\n",
       "      <td>4</td>\n",
       "    </tr>\n",
       "    <tr>\n",
       "      <th>61411</th>\n",
       "      <td>4</td>\n",
       "    </tr>\n",
       "    <tr>\n",
       "      <th>17736</th>\n",
       "      <td>4</td>\n",
       "    </tr>\n",
       "    <tr>\n",
       "      <th>28036</th>\n",
       "      <td>4</td>\n",
       "    </tr>\n",
       "    <tr>\n",
       "      <th>15731</th>\n",
       "      <td>5</td>\n",
       "    </tr>\n",
       "  </tbody>\n",
       "</table>\n",
       "<p>66993 rows × 1 columns</p>\n",
       "</div>"
      ],
      "text/plain": [
       "       rating\n",
       "26255       4\n",
       "32645       5\n",
       "89609       1\n",
       "54877       5\n",
       "31903       4\n",
       "...       ...\n",
       "63213       4\n",
       "61411       4\n",
       "17736       4\n",
       "28036       4\n",
       "15731       5\n",
       "\n",
       "[66993 rows x 1 columns]"
      ]
     },
     "execution_count": 23,
     "metadata": {},
     "output_type": "execute_result"
    }
   ],
   "source": [
    "test_x"
   ]
  },
  {
   "cell_type": "code",
   "execution_count": 27,
   "metadata": {},
   "outputs": [
    {
     "data": {
      "text/plain": [
       "1.3737061505411101"
      ]
     },
     "execution_count": 27,
     "metadata": {},
     "output_type": "execute_result"
    }
   ],
   "source": [
    "# knn regression\n",
    "\n",
    "errors = list()\n",
    "for i in range(1,10):\n",
    "    knn_model = KNeighborsRegressor(n_neighbors=i)\n",
    "    knn_model.fit(train_x, train_y)\n",
    "\n",
    "    test_preds = knn_model.predict(test_x)\n",
    "    mse = mean_squared_error(test_y, test_preds)\n",
    "    errors.append(mse)\n",
    "\n"
   ]
  }
 ],
 "metadata": {
  "kernelspec": {
   "display_name": "Python 3 (ipykernel)",
   "language": "python",
   "name": "python3"
  },
  "language_info": {
   "codemirror_mode": {
    "name": "ipython",
    "version": 3
   },
   "file_extension": ".py",
   "mimetype": "text/x-python",
   "name": "python",
   "nbconvert_exporter": "python",
   "pygments_lexer": "ipython3",
   "version": "3.8.5"
  }
 },
 "nbformat": 4,
 "nbformat_minor": 4
}
